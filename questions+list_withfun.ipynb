{
  "nbformat": 4,
  "nbformat_minor": 0,
  "metadata": {
    "colab": {
      "name": "questions+list-withfun.ipynb",
      "provenance": [],
      "collapsed_sections": [],
      "toc_visible": true,
      "authorship_tag": "ABX9TyMD6tU9NjS6cRu5ei9AdEwK",
      "include_colab_link": true
    },
    "kernelspec": {
      "name": "python3",
      "display_name": "Python 3"
    },
    "language_info": {
      "name": "python"
    }
  },
  "cells": [
    {
      "cell_type": "markdown",
      "metadata": {
        "id": "view-in-github",
        "colab_type": "text"
      },
      "source": [
        "<a href=\"https://colab.research.google.com/github/lakhanpal185/machin-learning-with-python/blob/main/questions%2Blist_withfun.ipynb\" target=\"_parent\"><img src=\"https://colab.research.google.com/assets/colab-badge.svg\" alt=\"Open In Colab\"/></a>"
      ]
    },
    {
      "cell_type": "code",
      "execution_count": null,
      "metadata": {
        "colab": {
          "base_uri": "https://localhost:8080/"
        },
        "id": "47z45kyn5AUw",
        "outputId": "e04e3db2-4da0-4a33-d1e9-475ab8f28f4f"
      },
      "outputs": [
        {
          "output_type": "stream",
          "name": "stdout",
          "text": [
            "Enter the x value : 1\n",
            "Enter the y value : 2\n",
            "65\n",
            "97\n",
            "2 1\n"
          ]
        }
      ],
      "source": [
        "X = int (input('Enter the x value : '))\n",
        "Y = int (input('Enter the y value : '))\n",
        "print(ascii(65))\n",
        "print(ord('a'))\n",
        "print(Y,X)"
      ]
    },
    {
      "cell_type": "code",
      "source": [
        "# here a am going to write the convert program to convert cm to meter/kilometer/ micro meter , lbs to kg/grames ,\n",
        "def convert_dis():\n",
        "    flag = input('\\ncommand to convert \\nmeter(mtr) \\nkilometer(km)\\nmicro meter(mm)\\n\\n>>>')\n",
        "    dis= int (input('Enter the distance in centimiter : '))\n",
        "\n",
        "    if flag == 'mtr':\n",
        "      print(f'the meter value of {dis} is {dis/100}')\n",
        "    elif flag == 'km':\n",
        "      print(f'the kilometer value of {dis} is {dis/100000}')\n",
        "    elif flag == 'mm':\n",
        "      print(f\"the micro meter value  of {dis} is  {dis*10000}\")\n",
        "    else:\n",
        "        print(\" wrong input \")\n",
        "\n",
        "def convert_weight():\n",
        "      flag = input(\"\\nEnter the command to convert kg(kg) and grams(grm)\\n\\n>> \")\n",
        "      weight = int (input('Enter the weight in lbs : '))\n",
        "\n",
        "      if flag == 'kg':\n",
        "          print(f'kilograms are : {weight*0.45}')\n",
        "      elif flag == 'grm':\n",
        "          print(f' grams value is : {weight*45*10}')\n",
        "      else:\n",
        "          print(\" wrong input \")\n",
        "\n",
        "flag = ''\n",
        "while( flag != 'quit' ):\n",
        "    flag = (input(\"\\nenter 1 for distance conversion and enter 0 for the  weight conversion : \"))\n",
        "    if flag == '1': \n",
        "        convert_dis()\n",
        "    elif flag == '0':\n",
        "        convert_weight()"
      ],
      "metadata": {
        "colab": {
          "base_uri": "https://localhost:8080/"
        },
        "id": "lHPrfmpO5gK0",
        "outputId": "d4d5c5bf-df66-49cd-acde-32569d917910"
      },
      "execution_count": null,
      "outputs": [
        {
          "name": "stdout",
          "output_type": "stream",
          "text": [
            "\n",
            "enter 1 for distance conversion and enter 0 for the  weight conversion : 1\n",
            "\n",
            "command to\\ convert \n",
            "meter(mtr) \n",
            "kilometer(km)\n",
            "micro meter(mm)\n",
            "\n",
            ">>>mm\n",
            "Enter the distance in centimiter : 78000\n",
            "the micro meter value  of 78000 is  780000000\n",
            "\n",
            "enter 1 for distance conversion and enter 0 for the  weight conversion : quit\n"
          ]
        }
      ]
    },
    {
      "cell_type": "code",
      "source": [
        "import math\n",
        "print(f'pariphari circle of r = 4 : {math.pi*2*4}')\n",
        "print(f'area rectange with a = 4 , b= 7: {4*7}')\n",
        "print(f'volume of cylander r = 4, h = 3 : {math.pi * 4**2 * 3}')\n",
        "print(f'volue of cone r = 4 : {math.pi*2*4}')\n",
        "print(f'area of squar a = 4 : {4*4}')\n",
        "print(f'volume of cube width = 4,length=5,height=7 : {3 * 5 * 7}')\n",
        "print(f'outer are of above cube : {2*3*5+2*3*7+2*5*7}')\n",
        "print(f'area of cylander r = 4,h = 7 : {2*math.pi*4*7}')"
      ],
      "metadata": {
        "colab": {
          "base_uri": "https://localhost:8080/"
        },
        "id": "nIVsU7zBNpLP",
        "outputId": "a8f58e7f-c820-437b-e3c4-1b409094dfb3"
      },
      "execution_count": null,
      "outputs": [
        {
          "output_type": "stream",
          "name": "stdout",
          "text": [
            "pariphari of r = 4 : 25.132741228718345\n",
            "area rectange with a = 4 , b= 7: 28\n",
            "volume of cylander r = 4, h = 3 : 150.79644737231007\n",
            "volue of cone r = 4 : 25.132741228718345\n",
            "area of squar a = 4 : 16\n",
            "volume of cube width = 4,length=5,height=7 : 105\n",
            "outer are of above cube : 142\n",
            "area of cylander r = 4,h = 7 : 175.92918860102841\n"
          ]
        }
      ]
    },
    {
      "cell_type": "code",
      "source": [
        "list_user = [1,2,3,4,5] \n",
        "#            0 1 2 3 4\n",
        "#            0-4-3-2-1\n",
        "print(list_user)\n",
        "print(type(list_user))\n",
        "print(list_user[:])\n",
        "print(len(list_user))\n",
        "print(list_user[0:])\n",
        "print(list_user[3:-1])\n",
        "print(list_user[-1::-3])\n",
        "print(list_user[0:5:3])\n",
        "print(list_user[0:5:3])\n",
        "b = 1 in list_user\n",
        "print(b)"
      ],
      "metadata": {
        "colab": {
          "base_uri": "https://localhost:8080/"
        },
        "id": "fRKaNc81Oscd",
        "outputId": "636cd242-d2bf-4549-a47b-2c8351dfe8f1"
      },
      "execution_count": null,
      "outputs": [
        {
          "output_type": "stream",
          "name": "stdout",
          "text": [
            "[1, 2, 3, 4, 5]\n",
            "<class 'list'>\n",
            "[1, 2, 3, 4, 5]\n",
            "5\n",
            "[1, 2, 3, 4, 5]\n",
            "[4]\n",
            "[5, 2]\n",
            "[1, 4]\n",
            "[1, 4]\n",
            "True\n"
          ]
        }
      ]
    },
    {
      "cell_type": "code",
      "source": [
        "#if statement \n",
        "#age < 8 -- kids\n",
        "#age >= 8 and < 12  -- boy or middle age\n",
        "# age >= 12 and < 25 -- youth age\n",
        "# age >= 25  and < 60 -- familyman\n",
        "# age > = 60 old man\n",
        "\n",
        "def person_blongs(age):\n",
        "\n",
        "    if age < 8 :\n",
        "        print(\"\\nhi/she is a kid \")\n",
        "    elif age >= 8 and age < 12:\n",
        "        print(\"hi/she is a middle age person!\")\n",
        "    elif age >= 12 and age < 25:\n",
        "        print(\"hi/she is a youth age person!\")\n",
        "    elif age >= 25 and age < 60:\n",
        "        print(\"hi/she is a family age person!\")\n",
        "    else :\n",
        "        print(\"hi/she is a old age person!\")\n",
        "\n",
        "name = input(\"enter the person name : \")\n",
        "age = int(input(f'\\nenter the age of {name} : '))\n",
        "person_blongs(age)\n"
      ],
      "metadata": {
        "colab": {
          "base_uri": "https://localhost:8080/"
        },
        "id": "lfExejOlQj9b",
        "outputId": "60df34e1-96e2-432e-b8d9-4f61d67dbfd8"
      },
      "execution_count": null,
      "outputs": [
        {
          "output_type": "stream",
          "name": "stdout",
          "text": [
            "enter the person name : shashi k. raja\n",
            "\n",
            "enter the age of shashi k. raja : 30\n",
            "hi/she is a family age person!\n"
          ]
        }
      ]
    },
    {
      "cell_type": "code",
      "source": [
        "## here i am  going to use the pattern using the loops in python\n",
        "n = int(input(\"Enter the number of row's : \"))\n",
        "for i in range(n):\n",
        "     print(\"*\"*i)"
      ],
      "metadata": {
        "id": "a_fDj1_2XKLj",
        "colab": {
          "base_uri": "https://localhost:8080/"
        },
        "outputId": "036273ef-aa24-4fac-9082-8c2d909a3f7e"
      },
      "execution_count": null,
      "outputs": [
        {
          "output_type": "stream",
          "name": "stdout",
          "text": [
            "Enter the number of row's : 3\n",
            "\n",
            "*\n",
            "**\n"
          ]
        }
      ]
    },
    {
      "cell_type": "code",
      "source": [
        "#list methods\n",
        "\n",
        "def max_Element(li):\n",
        "    max_value = li[0]\n",
        "    for item in li:\n",
        "        if item > max_value:\n",
        "            max_value= item \n",
        "    return max_value\n",
        "\n",
        "\n",
        "list_temp = [1,2,3,4,5,6,34,656,23,]\n",
        "\n",
        "print(len(list_temp))\n",
        "print(list_temp)\n",
        "# find the max /max()\n",
        "max_element= max_Element(list_temp)\n",
        "print(max_element)\n",
        "print(list_temp.pop())\n",
        "print(list_temp.pop(0)) # 0 is anindex value\n",
        "list_temp.insert(1,0) #insert 0 at the 0th index\n",
        "print(list_temp)\n",
        "print(list_temp.index(656))\n",
        "print(list_temp.count(5))\n",
        "list_temp.remove(656)\n",
        "print(list_temp)\n",
        "list_temp.sort()\n",
        "print(list_temp)\n",
        "list_temp.reverse()\n",
        "print(list_temp)\n"
      ],
      "metadata": {
        "colab": {
          "base_uri": "https://localhost:8080/"
        },
        "id": "E4coKWV2Z6NC",
        "outputId": "3039a463-edef-4a8e-e983-cb3f2257ffda"
      },
      "execution_count": null,
      "outputs": [
        {
          "output_type": "stream",
          "name": "stdout",
          "text": [
            "9\n",
            "[1, 2, 3, 4, 5, 6, 34, 656, 23]\n",
            "656\n",
            "23\n",
            "1\n",
            "[2, 0, 3, 4, 5, 6, 34, 656]\n",
            "7\n",
            "1\n",
            "[2, 0, 3, 4, 5, 6, 34]\n",
            "[0, 2, 3, 4, 5, 6, 34]\n",
            "[34, 6, 5, 4, 3, 2, 0]\n"
          ]
        }
      ]
    },
    {
      "cell_type": "code",
      "source": [
        ""
      ],
      "metadata": {
        "id": "ut7IGY3EcErO"
      },
      "execution_count": null,
      "outputs": []
    }
  ]
}