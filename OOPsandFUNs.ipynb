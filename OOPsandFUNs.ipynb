{
  "nbformat": 4,
  "nbformat_minor": 0,
  "metadata": {
    "colab": {
      "name": "OOPsandFUNs.ipynb",
      "provenance": [],
      "authorship_tag": "ABX9TyMX2HyVt6WDx7hwMnFvKeEO",
      "include_colab_link": true
    },
    "kernelspec": {
      "name": "python3",
      "display_name": "Python 3"
    },
    "language_info": {
      "name": "python"
    }
  },
  "cells": [
    {
      "cell_type": "markdown",
      "metadata": {
        "id": "view-in-github",
        "colab_type": "text"
      },
      "source": [
        "<a href=\"https://colab.research.google.com/github/lakhanpal185/machin-learning-with-python/blob/main/OOPsandFUNs.ipynb\" target=\"_parent\"><img src=\"https://colab.research.google.com/assets/colab-badge.svg\" alt=\"Open In Colab\"/></a>"
      ]
    },
    {
      "cell_type": "code",
      "execution_count": null,
      "metadata": {
        "colab": {
          "base_uri": "https://localhost:8080/"
        },
        "id": "c_qPSg7Ybz7S",
        "outputId": "512c0ccb-d5ab-4cad-e02e-728ace7eeb8a"
      },
      "outputs": [
        {
          "output_type": "stream",
          "name": "stdout",
          "text": [
            "28.26\n"
          ]
        }
      ],
      "source": [
        "\n",
        "class math:\n",
        "    def __init__(self,pi):\n",
        "        self.pi = pi\n",
        "    def dick_area(self,radius):\n",
        "        return self.pi*radius**2\n",
        "    def cyclender_area(self,radius,hight):\n",
        "        return 2*self.pi*radius*hight\n",
        "\n",
        "\n",
        "mat = math(3.14)\n",
        "area = mat.dick_area(3)\n",
        "print(area)\n",
        "area = mat.cyclender_area(12,6)\n"
      ]
    },
    {
      "cell_type": "code",
      "source": [
        "import math\n",
        "\n",
        "class val:\n",
        "    def __init__(self,x,y):\n",
        "        self.x = x\n",
        "        self.y = y\n",
        "    def print(self,point):\n",
        "        print(f\"({self.x},{self.y})\")\n",
        "    def dis_detween(self,point1,point2):\n",
        "        return math.sqrt((point1.x - point2.x)**2 + (point1.y - point2.y)**2)\n",
        "\n",
        "point1 = val(0,5)\n",
        "point2 = val(0,10)\n",
        "\n",
        "dis = point1.dis_detween(point1,point2)\n",
        "print(\" distance : \",dis)"
      ],
      "metadata": {
        "colab": {
          "base_uri": "https://localhost:8080/"
        },
        "id": "hlm59i_-sY3w",
        "outputId": "b556e735-e771-4981-e5b9-e163de68c611"
      },
      "execution_count": null,
      "outputs": [
        {
          "output_type": "stream",
          "name": "stdout",
          "text": [
            " distance :  5.0\n"
          ]
        }
      ]
    },
    {
      "cell_type": "code",
      "source": [
        "class a:\n",
        "    def draw(self):\n",
        "        print('hi hello')\n",
        "    def gameplayer(self):\n",
        "        print(\"player is not comming\")\n",
        "\n",
        "class b(a):\n",
        "    def knowme(self):\n",
        "        print(\"not need\")\n",
        "    \n",
        "\n",
        "class c(a):\n",
        "    def printingvalues(self):\n",
        "        print(\"thing is here\")\n",
        "\n",
        "c_class = c()\n",
        "c_class.draw()\n",
        "c_class.gameplayer()\n"
      ],
      "metadata": {
        "colab": {
          "base_uri": "https://localhost:8080/"
        },
        "id": "deZuleL5vIXs",
        "outputId": "bd32f30e-4a5c-4767-a179-3af6b0d56437"
      },
      "execution_count": null,
      "outputs": [
        {
          "output_type": "stream",
          "name": "stdout",
          "text": [
            "hi hello\n",
            "player is not comming\n"
          ]
        }
      ]
    },
    {
      "cell_type": "code",
      "source": [
        "#inheritance\n",
        "class laptop:\n",
        "    def __init__(self,ram,rom,company):\n",
        "        self.company = company\n",
        "        self.ram = ram\n",
        "        self.rom = rom\n",
        "    def print_details(self):\n",
        "        print(f'ram of {self.company} is {self.ram}\\nAnd rom is {self.rom}')\n",
        "\n",
        "\n",
        "class lenovo(laptop):\n",
        "    def __init__(self,rom,ram,pc_version):\n",
        "        super().__init__(rom,ram,'lanovo')\n",
        "        self.pc_version = pc_version\n",
        "\n",
        "\n",
        "len = lenovo(500,16,'v1.1')\n",
        "len.print_details()\n"
      ],
      "metadata": {
        "colab": {
          "base_uri": "https://localhost:8080/"
        },
        "id": "ahPJsiYxwCwZ",
        "outputId": "8ebd8f63-9cf3-4cad-d442-0fcff920058a"
      },
      "execution_count": null,
      "outputs": [
        {
          "output_type": "stream",
          "name": "stdout",
          "text": [
            "ram of lanovo is 500\n",
            "And rom is 16\n"
          ]
        }
      ]
    },
    {
      "cell_type": "code",
      "source": [
        "list1 = [{'id':1 ,'name':'lakhan pal','phone':'1234567890','marks':30,'percent':'80'},\n",
        "         {'id':2 ,'name':'jatin gupta','phone':'1234560890','marks':30,'percent':'80'},\n",
        "         {'id':3 ,'name':'himanshu chodhary','phone':'1034567890','marks':30,'percent':'80'},\n",
        "         {'id':4 ,'name':'dharmanshu sharma','phone':'1984567890','marks':30,'percent':'80'},\n",
        "         {'id':5 ,'name':'himanshu gupta','phone':'1234547890','marks':30,'percent':'80'}\n",
        "]\n",
        "for dic in list1:\n",
        "    print(dic)\n",
        "\n",
        "list1[0]['percent'] # accessing data"
      ],
      "metadata": {
        "id": "Dl-4cYZq-OdC",
        "colab": {
          "base_uri": "https://localhost:8080/",
          "height": 122
        },
        "outputId": "2a537a12-2a36-4085-c176-84bed06ebf8c"
      },
      "execution_count": null,
      "outputs": [
        {
          "output_type": "stream",
          "name": "stdout",
          "text": [
            "{'id': 1, 'name': 'lakhan pal', 'phone': '1234567890', 'marks': 30, 'percent': '80'}\n",
            "{'id': 2, 'name': 'jatin gupta', 'phone': '1234560890', 'marks': 30, 'percent': '80'}\n",
            "{'id': 3, 'name': 'himanshu chodhary', 'phone': '1034567890', 'marks': 30, 'percent': '80'}\n",
            "{'id': 4, 'name': 'dharmanshu sharma', 'phone': '1984567890', 'marks': 30, 'percent': '80'}\n",
            "{'id': 5, 'name': 'himanshu gupta', 'phone': '1234547890', 'marks': 30, 'percent': '80'}\n"
          ]
        },
        {
          "output_type": "execute_result",
          "data": {
            "text/plain": [
              "'80'"
            ],
            "application/vnd.google.colaboratory.intrinsic+json": {
              "type": "string"
            }
          },
          "metadata": {},
          "execution_count": 66
        }
      ]
    },
    {
      "cell_type": "code",
      "source": [
        "\n",
        "\n",
        "\n",
        "#updata the value of givin key from the list\n",
        "def updatavalue(key,li,id):\n",
        "    for item in li:\n",
        "        print('checking---')\n",
        "        if key in item and id in item.values():\n",
        "            print(f\"key : {key} value : {item[key]}\")\n",
        "            val = input(\"Enter new value : \")\n",
        "            if type(item[key]) == str:\n",
        "                item[key] = val\n",
        "            else: \n",
        "                item[key]=int(val)\n",
        "            return\n",
        "    print(\"the value is not persent\")\n",
        "\n",
        "\n",
        "\n",
        "#updatavalue('marks',list1,3)\n",
        "updatavalue('name',list1,9)\n",
        "for dic in list1:\n",
        "    print(dic)"
      ],
      "metadata": {
        "colab": {
          "base_uri": "https://localhost:8080/"
        },
        "id": "MlumchEnbgIB",
        "outputId": "316c7dff-8ae8-49b7-8e9f-ed3bd9cf5029"
      },
      "execution_count": null,
      "outputs": [
        {
          "output_type": "stream",
          "name": "stdout",
          "text": [
            "checking---\n",
            "checking---\n",
            "checking---\n",
            "checking---\n",
            "checking---\n",
            "the value is not persent\n",
            "{'id': 1, 'name': 'lakhan pal', 'phone': '1234567890', 'marks': 30, 'percent': '80'}\n",
            "{'id': 2, 'name': 'jatin gupta', 'phone': '1234560890', 'marks': 30, 'percent': '80'}\n",
            "{'id': 3, 'name': 'himanshu chodhary', 'phone': '1034567890', 'marks': 30, 'percent': '80'}\n",
            "{'id': 4, 'name': 'dharmanshu sharma', 'phone': '1984567890', 'marks': 30, 'percent': '80'}\n",
            "{'id': 5, 'name': 'himanshu gupta', 'phone': '1234547890', 'marks': 30, 'percent': '80'}\n"
          ]
        }
      ]
    },
    {
      "cell_type": "code",
      "source": [
        "# deletion from the above list\n",
        "\n",
        "def deleteElement(key,li,id):\n",
        "    for item in li:\n",
        "        if key in item and id in item.values():\n",
        "            item.pop(key)\n",
        "            return \n",
        "    print('the value is not persent')\n",
        "\n",
        "\n",
        "deleteElement('phone',list1,1)\n",
        "\n",
        "for dic in list1:\n",
        "    print(dic)"
      ],
      "metadata": {
        "colab": {
          "base_uri": "https://localhost:8080/"
        },
        "id": "ZfjRQ-rThVbJ",
        "outputId": "5904b3eb-8304-4baa-dd09-249b6b48d6b5"
      },
      "execution_count": null,
      "outputs": [
        {
          "output_type": "stream",
          "name": "stdout",
          "text": [
            "{'id': 1, 'name': 'lakhan pal', 'marks': 30, 'percent': '80'}\n",
            "{'id': 2, 'name': 'jatin gupta', 'phone': '1234560890', 'marks': 30, 'percent': '80'}\n",
            "{'id': 3, 'name': 'himanshu chodhary', 'phone': '1034567890', 'marks': 30, 'percent': '80'}\n",
            "{'id': 4, 'name': 'dharmanshu sharma', 'phone': '1984567890', 'marks': 30, 'percent': '80'}\n",
            "{'id': 5, 'name': 'himanshu gupta', 'phone': '1234547890', 'marks': 30, 'percent': '80'}\n"
          ]
        }
      ]
    },
    {
      "cell_type": "code",
      "source": [
        "#positional argument and the keyword argument\n",
        "\n",
        "#positional argument\n",
        "def searchVal(id,li1):\n",
        "    for item in li1:\n",
        "        if id in item.values():\n",
        "            print(f\"the value is find at {li1.index(item) + 1}\")\n",
        "            return \n",
        "    print('not persent')\n",
        "\n",
        "\n",
        "searchVal(1,list1)\n"
      ],
      "metadata": {
        "id": "uBXwHOgJie4I",
        "colab": {
          "base_uri": "https://localhost:8080/"
        },
        "outputId": "d636dcb8-408b-446d-d1a2-4b3e9ad0d4a5"
      },
      "execution_count": null,
      "outputs": [
        {
          "output_type": "stream",
          "name": "stdout",
          "text": [
            "the value is find at 1\n"
          ]
        }
      ]
    },
    {
      "cell_type": "code",
      "source": [
        ""
      ],
      "metadata": {
        "id": "Iheps0GL3eIg"
      },
      "execution_count": null,
      "outputs": []
    },
    {
      "cell_type": "code",
      "source": [
        "#keyword argument\n",
        "searchVal(id = 1,li1 = list1)\n",
        "\n",
        "searchVal(li1 = list1,id = 1)\n",
        "searchVal(1,li1 = list1)\n",
        "#searchVal(id = 1,list1) \n"
      ],
      "metadata": {
        "colab": {
          "base_uri": "https://localhost:8080/"
        },
        "id": "AFNjan2MtGzZ",
        "outputId": "3c51410e-d267-4f73-81e2-2ed6531b7c40"
      },
      "execution_count": null,
      "outputs": [
        {
          "output_type": "stream",
          "name": "stdout",
          "text": [
            "the value is find at 1\n",
            "the value is find at 1\n",
            "the value is find at 1\n"
          ]
        }
      ]
    },
    {
      "cell_type": "code",
      "source": [
        "class operation:\n",
        "    def __init__(self,li):\n",
        "        self.li = li\n",
        "    \n",
        "    def update_contact(self,name):\n",
        "        for dict1  in self.li:\n",
        "            if dict1[name] in dict1:\n",
        "                dict1['phone']=input ('enter the new number :')\n",
        "                return \n",
        "        print(\"following user is not persent\")\n",
        "    def addstudent(self,dic):\n",
        "        if dic in self.li:\n",
        "            print(\"student already exist\") \n",
        "        else: \n",
        "            print('updating---')\n",
        "            self.li.insert(dic['id']-1,dic)\n",
        "        return\n",
        "    def removeStudent(self,name):\n",
        "        for dic in self.li:\n",
        "            if name in dic.values(): # .values are used to get values not keys \n",
        "                print(dic)\n",
        "                self.li.remove(dic)\n",
        "# dic.clear() method remain the place in list  so we do not use it\n",
        "# del dic is not working\n",
        "\n",
        "obj = operation(list1)\n",
        "\n",
        "obj.removeStudent('dharmanshu sharma')\n",
        "obj.addstudent({'id': 4, 'name': 'dharmanshu sharma', 'phone': '1984567890', 'marks': 30, 'percent': '80'})\n",
        "for item in list1:\n",
        "    print(item)"
      ],
      "metadata": {
        "id": "x6dneu5XufFM",
        "colab": {
          "base_uri": "https://localhost:8080/"
        },
        "outputId": "4a70764b-15c5-4a34-877c-48573d7649ea"
      },
      "execution_count": null,
      "outputs": [
        {
          "output_type": "stream",
          "name": "stdout",
          "text": [
            "{'id': 4, 'name': 'dharmanshu sharma', 'phone': '1984567890', 'marks': 30, 'percent': '80'}\n",
            "updating---\n",
            "{'id': 1, 'name': 'lakhan pal', 'marks': 30, 'percent': '80'}\n",
            "{'id': 2, 'name': 'jatin gupta', 'phone': '1234560890', 'marks': 30, 'percent': '80'}\n",
            "{'id': 3, 'name': 'himanshu chodhary', 'phone': '1034567890', 'marks': 30, 'percent': '80'}\n",
            "{'id': 5, 'name': 'himanshu gupta', 'phone': '1234547890', 'marks': 30, 'percent': '80'}\n",
            "{'id': 4, 'name': 'dharmanshu sharma', 'phone': '1984567890', 'marks': 30, 'percent': '80'}\n"
          ]
        }
      ]
    },
    {
      "cell_type": "code",
      "source": [
        ""
      ],
      "metadata": {
        "id": "dqJuD7rN3i1_"
      },
      "execution_count": null,
      "outputs": []
    }
  ]
}