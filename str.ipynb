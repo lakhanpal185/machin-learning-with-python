{
  "cells": [
    {
      "cell_type": "markdown",
      "metadata": {
        "id": "view-in-github",
        "colab_type": "text"
      },
      "source": [
        "<a href=\"https://colab.research.google.com/github/lakhanpal185/machin-learning-with-python/blob/main/str.ipynb\" target=\"_parent\"><img src=\"https://colab.research.google.com/assets/colab-badge.svg\" alt=\"Open In Colab\"/></a>"
      ]
    },
    {
      "cell_type": "code",
      "execution_count": null,
      "metadata": {
        "colab": {
          "base_uri": "https://localhost:8080/"
        },
        "id": "JfbwVrpo7snW",
        "outputId": "798dac8d-b832-43db-c368-76a157652107"
      },
      "outputs": [
        {
          "name": "stdout",
          "output_type": "stream",
          "text": [
            "[1, 2, 'hi', 4, 5, 8]\n",
            "[1, 2, 'hi', 4, 5, 8, 2, 3, 5]\n",
            "[1, 2, 'hi', 4, 5, 8, 2, 3]\n",
            "[1, 'hi', 4, 5, 8, 2, 3]\n"
          ]
        }
      ],
      "source": [
        "name = [1,2,4,5,8]\n",
        "list1 = [2,3,5]\n",
        "\n",
        "name.insert(2,'hi')\n",
        "print(name)\n",
        "name.extend(list1)\n",
        "print(name)\n",
        "name.pop()\n",
        "print(name)\n",
        "name.remove(2)\n",
        "print(name)"
      ]
    },
    {
      "cell_type": "code",
      "execution_count": null,
      "metadata": {
        "colab": {
          "base_uri": "https://localhost:8080/"
        },
        "id": "rw9MRNwMBPKh",
        "outputId": "c26546eb-304d-4b6d-be85-1389503c29fb"
      },
      "outputs": [
        {
          "name": "stdout",
          "output_type": "stream",
          "text": [
            "Enter income : 25001\n",
            "the grass value : 27501.1\n"
          ]
        }
      ],
      "source": [
        "num = int (input(\"Enter income : \"))\n",
        "if  num >= 25000 :\n",
        "    da = 10 * num/100\n",
        "elif num < 25000:\n",
        "     da = 5 * num/100\n",
        "\n",
        "print(f\"the grass value : {da + num}\")"
      ]
    },
    {
      "cell_type": "code",
      "execution_count": null,
      "metadata": {
        "colab": {
          "base_uri": "https://localhost:8080/"
        },
        "id": "pHMTTKKqBbUV",
        "outputId": "9198f81e-01cc-49e6-d2ed-ea255e12ee08"
      },
      "outputs": [
        {
          "name": "stdout",
          "output_type": "stream",
          "text": [
            "value : \n",
            "[0, 1, 2, 3, 4, 5, 6, 7, 8, 9]\n",
            " the odd value are : [1, 3, 5, 7, 9]\n",
            " the even value are : [0, 2, 4, 6, 8]\n"
          ]
        }
      ],
      "source": [
        "list1 = []\n",
        "odd_values = []\n",
        "even_values = []\n",
        "\n",
        "print(\"value : \")\n",
        "for i in range(10):\n",
        "    list1.append(i)\n",
        "for item in list1:\n",
        "    if item%2 == 1:\n",
        "        odd_values.append(item)\n",
        "    else :\n",
        "        even_values.append(item)\n",
        "print(list1)\n",
        "print(f\" the odd value are : {odd_values}\")\n",
        "print(f\" the even value are : {even_values}\")"
      ]
    },
    {
      "cell_type": "code",
      "execution_count": null,
      "metadata": {
        "colab": {
          "base_uri": "https://localhost:8080/"
        },
        "id": "FoWtICWXEgdw",
        "outputId": "abded9e4-769b-4729-d7a0-8209494dd3e6"
      },
      "outputs": [
        {
          "name": "stdout",
          "output_type": "stream",
          "text": [
            "Enter the age of student : 45\n",
            "NOT ELIGIBLE \n"
          ]
        }
      ],
      "source": [
        "try: \n",
        "   age  = int (input(\"Enter the age of student : \"))\n",
        "   if age > 18 and age < 25: \n",
        "       print(\"ELIGIBLE FOR GRADE 1\")\n",
        "   elif age >= 25 and age <=30 :\n",
        "       print(\"ELIGIBLE FOR GRADE 2\")\n",
        "   else:\n",
        "       print(\"NOT ELIGIBLE \")\n",
        "except ValueError:\n",
        "    print(\"not valid input\") \n"
      ]
    },
    {
      "cell_type": "code",
      "execution_count": null,
      "metadata": {
        "colab": {
          "base_uri": "https://localhost:8080/"
        },
        "id": "gIZJQ_hQG3lj",
        "outputId": "8f13b1de-c6ef-4d91-e336-41afb98904cd"
      },
      "outputs": [
        {
          "name": "stdout",
          "output_type": "stream",
          "text": [
            "0 100 80 60 40 10 100 80 60 40 20 100 80 60 40 30 100 80 60 40 40 100 80 60 40 50 100 80 60 40 60 100 80 60 40 70 100 80 60 40 80 100 80 60 40 90 100 80 60 40 "
          ]
        }
      ],
      "source": [
        "for i in range(0,100,10):\n",
        "    print(i,end =' ')\n",
        "    for i in range(100,20,-20):\n",
        "      print(i , end = ' ')"
      ]
    },
    {
      "cell_type": "code",
      "execution_count": null,
      "metadata": {
        "colab": {
          "base_uri": "https://localhost:8080/"
        },
        "id": "0YoJZBWII0sZ",
        "outputId": "a29d68c4-1771-4164-cdbf-1a60ddad0bf8"
      },
      "outputs": [
        {
          "name": "stdout",
          "output_type": "stream",
          "text": [
            "19 38 57 76 95 114 133 152 171 190 0 1 2 3 4 5 6 "
          ]
        }
      ],
      "source": [
        "for i in range(19,191,19):\n",
        "    print(i,end = ' ')\n",
        "code_value = [10,11,30,40,50,29,34]\n",
        "for item in range(len(code_value)):\n",
        "    print(item,end=' ')"
      ]
    },
    {
      "cell_type": "code",
      "execution_count": null,
      "metadata": {
        "colab": {
          "base_uri": "https://localhost:8080/"
        },
        "id": "6IpO-tzNK-Gd",
        "outputId": "108db588-7897-45e9-8eb7-c8b81b56257e"
      },
      "outputs": [
        {
          "name": "stdout",
          "output_type": "stream",
          "text": [
            "\n",
            "*\n",
            "**\n",
            "***\n",
            "****\n",
            "*****\n"
          ]
        }
      ],
      "source": [
        "i = 0\n",
        "while 1:\n",
        "    if i > 5:\n",
        "        break\n",
        "    print('*'*i)\n",
        "    i += 1"
      ]
    },
    {
      "cell_type": "code",
      "execution_count": null,
      "metadata": {
        "colab": {
          "base_uri": "https://localhost:8080/"
        },
        "id": "hBXrxiv4Lh38",
        "outputId": "3b395ad9-1a58-49e6-fdd0-9d63864ddf24"
      },
      "outputs": [
        {
          "name": "stdout",
          "output_type": "stream",
          "text": [
            "Enter the value of rows : 7\n",
            "\n",
            "\n",
            "1 \n",
            "\n",
            "1 2 \n",
            "\n",
            "1 2 3 \n",
            "\n",
            "1 2 3 4 \n",
            "\n",
            "1 2 3 4 5 \n",
            "\n",
            "1 2 3 4 5 6 \n",
            "\n"
          ]
        }
      ],
      "source": [
        "N = int(input(\"Enter the value of rows : \"))\n",
        "\n",
        "for i  in  range(N):\n",
        "    for j  in range(1,i+1):\n",
        "        print(j,end= ' ')\n",
        "    print(\"\\n\")"
      ]
    },
    {
      "cell_type": "code",
      "execution_count": null,
      "metadata": {
        "colab": {
          "base_uri": "https://localhost:8080/"
        },
        "id": "02usjPQRORay",
        "outputId": "1d5b51e9-a80a-4c02-a407-be5c9e10a815"
      },
      "outputs": [
        {
          "name": "stdout",
          "output_type": "stream",
          "text": [
            "Enter the value of rows : 3\n",
            "\n",
            "\n",
            "A \n",
            "\n",
            "A B \n",
            "\n"
          ]
        }
      ],
      "source": [
        "N = int(input(\"Enter the value of rows : \"))\n",
        "\n",
        "for i  in  range(N):\n",
        "    for j  in range(1,i+1):\n",
        "        print(chr(64+j),end= ' ')\n",
        "    print(\"\\n\")"
      ]
    },
    {
      "cell_type": "code",
      "execution_count": null,
      "metadata": {
        "colab": {
          "background_save": true
        },
        "id": "iykS4hJnPJ06",
        "outputId": "c6b4a3e3-cee2-4d97-b36d-a0c6491cb0da"
      },
      "outputs": [
        {
          "name": "stdout",
          "output_type": "stream",
          "text": [
            "\n",
            "\n",
            "a \n",
            "\n",
            "a b \n",
            "\n",
            "a b c \n",
            "\n",
            "a b c d \n",
            "\n",
            "a b c d e \n",
            "\n",
            "a b c d e f \n",
            "\n"
          ]
        }
      ],
      "source": [
        "N = int(input(\"Enter the value of rows : \"))\n",
        "\n",
        "for i  in  range(N):\n",
        "    for j  in range(1,i+1):\n",
        "        print(chr(96+j),end= ' ')\n",
        "    print(\"\\n\")"
      ]
    },
    {
      "cell_type": "code",
      "execution_count": null,
      "metadata": {
        "id": "zdAKYJqIPswc"
      },
      "outputs": [],
      "source": [
        "N = int(input(\"Enter the value of rows : \"))\n",
        "\n",
        "for i  in  range(N):\n",
        "    print(\"**\"*i)\n",
        "    for j  in range(1,i+1):\n",
        "        print(chr(96+j),end= ' ')\n",
        "    print(\"\\n\")"
      ]
    }
  ],
  "metadata": {
    "colab": {
      "name": "str.ipynb",
      "provenance": [],
      "authorship_tag": "ABX9TyNMH9Fi0VkbNuYTZf55C/FN",
      "include_colab_link": true
    },
    "kernelspec": {
      "display_name": "Python 3",
      "name": "python3"
    },
    "language_info": {
      "name": "python"
    }
  },
  "nbformat": 4,
  "nbformat_minor": 0
}