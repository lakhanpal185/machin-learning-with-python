{
  "cells": [
    {
      "cell_type": "markdown",
      "metadata": {
        "id": "view-in-github",
        "colab_type": "text"
      },
      "source": [
        "<a href=\"https://colab.research.google.com/github/lakhanpal185/machin-learning-with-python/blob/main/pandas_code.ipynb\" target=\"_parent\"><img src=\"https://colab.research.google.com/assets/colab-badge.svg\" alt=\"Open In Colab\"/></a>"
      ]
    },
    {
      "cell_type": "code",
      "execution_count": null,
      "metadata": {
        "id": "vdi0wUaq-wD4",
        "colab": {
          "base_uri": "https://localhost:8080/"
        },
        "outputId": "07ecdb43-a757-4db4-e36d-cd99b19542a1"
      },
      "outputs": [
        {
          "output_type": "stream",
          "name": "stdout",
          "text": [
            "0      red\n",
            "1     blue\n",
            "2    green\n",
            "3    black\n",
            "4    white\n",
            "dtype: object\n"
          ]
        }
      ],
      "source": [
        "''' \n",
        "*data fram is a collaction of record \n",
        "*every record have a unic index no. \n",
        "*pandas data frames are collation of serise\n",
        "\n",
        "'''\n",
        "import pandas as pd\n",
        "li = [1,2,3.4,5,6]\n",
        "lis =['red','blue','green','black','white']\n",
        "serise = pd.Series(lis)\n",
        "print(serise)"
      ]
    },
    {
      "cell_type": "code",
      "execution_count": null,
      "metadata": {
        "id": "vrehgehHAhGn",
        "colab": {
          "base_uri": "https://localhost:8080/"
        },
        "outputId": "a16485d7-6db5-4197-8b29-63e14784c620"
      },
      "outputs": [
        {
          "output_type": "stream",
          "name": "stdout",
          "text": [
            "1.0      red\n",
            "2.0     blue\n",
            "3.4    green\n",
            "5.0    black\n",
            "6.0    white\n",
            "dtype: object\n"
          ]
        }
      ],
      "source": [
        "#modification of indexes\n",
        "serise = pd.Series(lis,index=li)\n",
        "print(serise)"
      ]
    },
    {
      "cell_type": "code",
      "execution_count": null,
      "metadata": {
        "id": "xyZLImnhBemB",
        "colab": {
          "base_uri": "https://localhost:8080/"
        },
        "outputId": "4b3c699e-8f3d-4389-ddf7-69cb59de6282"
      },
      "outputs": [
        {
          "output_type": "execute_result",
          "data": {
            "text/plain": [
              "name         lakhan\n",
              "course       python\n",
              "enjoyrate      full\n",
              "a              play\n",
              "dtype: object"
            ]
          },
          "metadata": {},
          "execution_count": 4
        }
      ],
      "source": [
        "from pandas.core.series import Series\n",
        "dic = {'name':'lakhan','course':'python','enjoyrate':'full','a':'play'}\n",
        "#         ^ index ^-value\n",
        "s1 = pd.Series(dic)\n",
        "s1"
      ]
    },
    {
      "cell_type": "code",
      "execution_count": null,
      "metadata": {
        "id": "h8W3l8S11Ju9",
        "colab": {
          "base_uri": "https://localhost:8080/"
        },
        "outputId": "28c41582-cd81-49e0-ebf1-1da545443d63"
      },
      "outputs": [
        {
          "output_type": "stream",
          "name": "stdout",
          "text": [
            "<class 'pandas.core.frame.DataFrame'>\n"
          ]
        }
      ],
      "source": [
        "import numpy as np\n",
        "import pandas as pd\n",
        "\n",
        "s1 = pd.Series([1,2,3,4,5,6,7,8])\n",
        "s2 = pd.Series(['a','b','c','d','e','f','g','h'])\n",
        "s3 = pd.Series(np.random.randint(80,size=8))\n",
        "s4 = pd.Series(['IT','A/C','IT','IT','IT','A/C','A/C','IT'])\n",
        "DF = pd.DataFrame({'id':s1,'name':s2,'marks': s3,'grad':s4})\n",
        "print(type(DF))\n",
        "\n"
      ]
    },
    {
      "cell_type": "code",
      "execution_count": null,
      "metadata": {
        "id": "W9UCVQPT6I_d",
        "colab": {
          "base_uri": "https://localhost:8080/"
        },
        "outputId": "5b12becf-3bf4-49bb-d8b9-3958fa9b7f94"
      },
      "outputs": [
        {
          "output_type": "stream",
          "name": "stdout",
          "text": [
            "    cars  passings  price\n",
            "0    BMW         3     61\n",
            "1  Volvo         7     10\n",
            "2   Ford         2     67\n",
            "1.3.5\n"
          ]
        }
      ],
      "source": [
        "\n",
        "mydataset = {\n",
        "  'cars': [\"BMW\", \"Volvo\", \"Ford\"],\n",
        "  'passings': [3, 7, 2],\n",
        "  'price': np.random.randint(10,100,size=3)\n",
        "}\n",
        "\n",
        "mydataframe=pd.DataFrame(mydataset)\n",
        "print(mydataframe)\n",
        "print(pd.__version__)"
      ]
    },
    {
      "cell_type": "code",
      "execution_count": null,
      "metadata": {
        "id": "9rJ6G6EC_2pT",
        "colab": {
          "base_uri": "https://localhost:8080/"
        },
        "outputId": "234aa3d1-8ed8-4325-f7d2-a9f5bc37ad43"
      },
      "outputs": [
        {
          "output_type": "stream",
          "name": "stdout",
          "text": [
            "    cars  passings  price\n",
            "0    BMW         3     47\n",
            "1  Volvo         7     17\n",
            "2   Ford         2     65\n"
          ]
        }
      ],
      "source": [
        "catagory = {'dog':10 ,'cat':5,'goat':30,'seep': 30}\n",
        "myvar = pd.Series(catagory)\n",
        "myvar[1]\n",
        "\n",
        "mydataset = {\n",
        "  'cars': [\"BMW\", \"Volvo\", \"Ford\"],\n",
        "  'passings': [3, 7, 2],\n",
        "  'price': np.random.randint(10,100,size=3)\n",
        "}\n",
        "\n",
        "mydataframe=pd.DataFrame(mydataset)\n",
        "print(mydataframe)"
      ]
    },
    {
      "cell_type": "code",
      "execution_count": null,
      "metadata": {
        "id": "QQ6QvSiHGIjF",
        "colab": {
          "base_uri": "https://localhost:8080/"
        },
        "outputId": "1d4bd53b-ff9f-49fe-d383-78ea8ffcd822"
      },
      "outputs": [
        {
          "output_type": "stream",
          "name": "stdout",
          "text": [
            "   calories  duration\n",
            "0       420        50\n",
            "1       380        40\n",
            "2       390        45\n"
          ]
        }
      ],
      "source": [
        "import pandas as pd\n",
        "\n",
        "data = {\n",
        "  \"calories\": [420, 380, 390],\n",
        "  \"duration\": [50, 40, 45]\n",
        "}\n",
        "\n",
        "#load data into a DataFrame object:\n",
        "df = pd.DataFrame(data)\n",
        "\n",
        "print(df)"
      ]
    },
    {
      "cell_type": "code",
      "execution_count": null,
      "metadata": {
        "id": "Lk0jofeEGcIe",
        "colab": {
          "base_uri": "https://localhost:8080/"
        },
        "outputId": "baf5c943-01c4-4519-ff69-10ab0ae5e563"
      },
      "outputs": [
        {
          "output_type": "stream",
          "name": "stdout",
          "text": [
            "calories    420\n",
            "duration     50\n",
            "Name: 0, dtype: int64\n"
          ]
        }
      ],
      "source": [
        "print(df.loc[0])"
      ]
    },
    {
      "cell_type": "code",
      "execution_count": null,
      "metadata": {
        "id": "W3YludfsG1jJ",
        "colab": {
          "base_uri": "https://localhost:8080/"
        },
        "outputId": "0fb64789-8b89-4ea0-bac8-7bfd70933868"
      },
      "outputs": [
        {
          "output_type": "stream",
          "name": "stdout",
          "text": [
            "   calories  duration\n",
            "0       420        50\n",
            "1       380        40\n",
            "2       390        45\n"
          ]
        }
      ],
      "source": [
        "print(df.loc[[0,1,2]])"
      ]
    },
    {
      "cell_type": "code",
      "execution_count": null,
      "metadata": {
        "id": "2d5t9iANJSp8",
        "colab": {
          "base_uri": "https://localhost:8080/",
          "height": 206
        },
        "outputId": "3ad20b4c-791c-4080-b3f9-675e0befbe55"
      },
      "outputs": [
        {
          "output_type": "execute_result",
          "data": {
            "text/plain": [
              "   sepal.length  sepal.width  petal.length  petal.width variety\n",
              "0           5.1          3.5           1.4          0.2  Setosa\n",
              "1           4.9          3.0           1.4          0.2  Setosa\n",
              "2           4.7          3.2           1.3          0.2  Setosa\n",
              "3           4.6          3.1           1.5          0.2  Setosa\n",
              "4           5.0          3.6           1.4          0.2  Setosa"
            ],
            "text/html": [
              "\n",
              "  <div id=\"df-136843e9-7044-45c5-a133-3c6621f3d6f6\">\n",
              "    <div class=\"colab-df-container\">\n",
              "      <div>\n",
              "<style scoped>\n",
              "    .dataframe tbody tr th:only-of-type {\n",
              "        vertical-align: middle;\n",
              "    }\n",
              "\n",
              "    .dataframe tbody tr th {\n",
              "        vertical-align: top;\n",
              "    }\n",
              "\n",
              "    .dataframe thead th {\n",
              "        text-align: right;\n",
              "    }\n",
              "</style>\n",
              "<table border=\"1\" class=\"dataframe\">\n",
              "  <thead>\n",
              "    <tr style=\"text-align: right;\">\n",
              "      <th></th>\n",
              "      <th>sepal.length</th>\n",
              "      <th>sepal.width</th>\n",
              "      <th>petal.length</th>\n",
              "      <th>petal.width</th>\n",
              "      <th>variety</th>\n",
              "    </tr>\n",
              "  </thead>\n",
              "  <tbody>\n",
              "    <tr>\n",
              "      <th>0</th>\n",
              "      <td>5.1</td>\n",
              "      <td>3.5</td>\n",
              "      <td>1.4</td>\n",
              "      <td>0.2</td>\n",
              "      <td>Setosa</td>\n",
              "    </tr>\n",
              "    <tr>\n",
              "      <th>1</th>\n",
              "      <td>4.9</td>\n",
              "      <td>3.0</td>\n",
              "      <td>1.4</td>\n",
              "      <td>0.2</td>\n",
              "      <td>Setosa</td>\n",
              "    </tr>\n",
              "    <tr>\n",
              "      <th>2</th>\n",
              "      <td>4.7</td>\n",
              "      <td>3.2</td>\n",
              "      <td>1.3</td>\n",
              "      <td>0.2</td>\n",
              "      <td>Setosa</td>\n",
              "    </tr>\n",
              "    <tr>\n",
              "      <th>3</th>\n",
              "      <td>4.6</td>\n",
              "      <td>3.1</td>\n",
              "      <td>1.5</td>\n",
              "      <td>0.2</td>\n",
              "      <td>Setosa</td>\n",
              "    </tr>\n",
              "    <tr>\n",
              "      <th>4</th>\n",
              "      <td>5.0</td>\n",
              "      <td>3.6</td>\n",
              "      <td>1.4</td>\n",
              "      <td>0.2</td>\n",
              "      <td>Setosa</td>\n",
              "    </tr>\n",
              "  </tbody>\n",
              "</table>\n",
              "</div>\n",
              "      <button class=\"colab-df-convert\" onclick=\"convertToInteractive('df-136843e9-7044-45c5-a133-3c6621f3d6f6')\"\n",
              "              title=\"Convert this dataframe to an interactive table.\"\n",
              "              style=\"display:none;\">\n",
              "        \n",
              "  <svg xmlns=\"http://www.w3.org/2000/svg\" height=\"24px\"viewBox=\"0 0 24 24\"\n",
              "       width=\"24px\">\n",
              "    <path d=\"M0 0h24v24H0V0z\" fill=\"none\"/>\n",
              "    <path d=\"M18.56 5.44l.94 2.06.94-2.06 2.06-.94-2.06-.94-.94-2.06-.94 2.06-2.06.94zm-11 1L8.5 8.5l.94-2.06 2.06-.94-2.06-.94L8.5 2.5l-.94 2.06-2.06.94zm10 10l.94 2.06.94-2.06 2.06-.94-2.06-.94-.94-2.06-.94 2.06-2.06.94z\"/><path d=\"M17.41 7.96l-1.37-1.37c-.4-.4-.92-.59-1.43-.59-.52 0-1.04.2-1.43.59L10.3 9.45l-7.72 7.72c-.78.78-.78 2.05 0 2.83L4 21.41c.39.39.9.59 1.41.59.51 0 1.02-.2 1.41-.59l7.78-7.78 2.81-2.81c.8-.78.8-2.07 0-2.86zM5.41 20L4 18.59l7.72-7.72 1.47 1.35L5.41 20z\"/>\n",
              "  </svg>\n",
              "      </button>\n",
              "      \n",
              "  <style>\n",
              "    .colab-df-container {\n",
              "      display:flex;\n",
              "      flex-wrap:wrap;\n",
              "      gap: 12px;\n",
              "    }\n",
              "\n",
              "    .colab-df-convert {\n",
              "      background-color: #E8F0FE;\n",
              "      border: none;\n",
              "      border-radius: 50%;\n",
              "      cursor: pointer;\n",
              "      display: none;\n",
              "      fill: #1967D2;\n",
              "      height: 32px;\n",
              "      padding: 0 0 0 0;\n",
              "      width: 32px;\n",
              "    }\n",
              "\n",
              "    .colab-df-convert:hover {\n",
              "      background-color: #E2EBFA;\n",
              "      box-shadow: 0px 1px 2px rgba(60, 64, 67, 0.3), 0px 1px 3px 1px rgba(60, 64, 67, 0.15);\n",
              "      fill: #174EA6;\n",
              "    }\n",
              "\n",
              "    [theme=dark] .colab-df-convert {\n",
              "      background-color: #3B4455;\n",
              "      fill: #D2E3FC;\n",
              "    }\n",
              "\n",
              "    [theme=dark] .colab-df-convert:hover {\n",
              "      background-color: #434B5C;\n",
              "      box-shadow: 0px 1px 3px 1px rgba(0, 0, 0, 0.15);\n",
              "      filter: drop-shadow(0px 1px 2px rgba(0, 0, 0, 0.3));\n",
              "      fill: #FFFFFF;\n",
              "    }\n",
              "  </style>\n",
              "\n",
              "      <script>\n",
              "        const buttonEl =\n",
              "          document.querySelector('#df-136843e9-7044-45c5-a133-3c6621f3d6f6 button.colab-df-convert');\n",
              "        buttonEl.style.display =\n",
              "          google.colab.kernel.accessAllowed ? 'block' : 'none';\n",
              "\n",
              "        async function convertToInteractive(key) {\n",
              "          const element = document.querySelector('#df-136843e9-7044-45c5-a133-3c6621f3d6f6');\n",
              "          const dataTable =\n",
              "            await google.colab.kernel.invokeFunction('convertToInteractive',\n",
              "                                                     [key], {});\n",
              "          if (!dataTable) return;\n",
              "\n",
              "          const docLinkHtml = 'Like what you see? Visit the ' +\n",
              "            '<a target=\"_blank\" href=https://colab.research.google.com/notebooks/data_table.ipynb>data table notebook</a>'\n",
              "            + ' to learn more about interactive tables.';\n",
              "          element.innerHTML = '';\n",
              "          dataTable['output_type'] = 'display_data';\n",
              "          await google.colab.output.renderOutput(dataTable, element);\n",
              "          const docLink = document.createElement('div');\n",
              "          docLink.innerHTML = docLinkHtml;\n",
              "          element.appendChild(docLink);\n",
              "        }\n",
              "      </script>\n",
              "    </div>\n",
              "  </div>\n",
              "  "
            ]
          },
          "metadata": {},
          "execution_count": 11
        }
      ],
      "source": [
        "data = pd.read_csv(\"/content/drive/MyDrive/iris.csv\")\n",
        "data.head()"
      ]
    },
    {
      "cell_type": "code",
      "source": [
        "#slice the dataframe \n",
        "employee = pd.read_csv(\"/content/drive/MyDrive/employees.csv\")\n",
        "employee\n",
        "salary_xy = employee.loc[(employee['FIRST_NAME'] == 'Douglas'),['SALARY','FIRST_NAME','LAST_NAME']]\n",
        "print(salary_xy)\n"
      ],
      "metadata": {
        "id": "QhLudovJ8Qcp",
        "colab": {
          "base_uri": "https://localhost:8080/"
        },
        "outputId": "653f7668-315d-4b4f-f305-a9457c660c21"
      },
      "execution_count": null,
      "outputs": [
        {
          "output_type": "stream",
          "name": "stdout",
          "text": [
            "   SALARY FIRST_NAME LAST_NAME\n",
            "1    2600    Douglas     Grant\n"
          ]
        }
      ]
    },
    {
      "cell_type": "code",
      "source": [
        "flour = pd.read_csv('/content/drive/MyDrive/iris.csv')\n",
        "print(flour)\n",
        "setosa = flour.loc[(flour['variety'] == 'Setosa') & (flour['petal.length'] <= 1.4),['sepal.length','variety','petal.length']]\n",
        "print(setosa)"
      ],
      "metadata": {
        "id": "lUaseMT3DmdL",
        "colab": {
          "base_uri": "https://localhost:8080/"
        },
        "outputId": "b562d784-4538-4b8d-baa6-f382a4657e2c"
      },
      "execution_count": null,
      "outputs": [
        {
          "output_type": "stream",
          "name": "stdout",
          "text": [
            "     sepal.length  sepal.width  petal.length  petal.width    variety\n",
            "0             5.1          3.5           1.4          0.2     Setosa\n",
            "1             4.9          3.0           1.4          0.2     Setosa\n",
            "2             4.7          3.2           1.3          0.2     Setosa\n",
            "3             4.6          3.1           1.5          0.2     Setosa\n",
            "4             5.0          3.6           1.4          0.2     Setosa\n",
            "..            ...          ...           ...          ...        ...\n",
            "145           6.7          3.0           5.2          2.3  Virginica\n",
            "146           6.3          2.5           5.0          1.9  Virginica\n",
            "147           6.5          3.0           5.2          2.0  Virginica\n",
            "148           6.2          3.4           5.4          2.3  Virginica\n",
            "149           5.9          3.0           5.1          1.8  Virginica\n",
            "\n",
            "[150 rows x 5 columns]\n",
            "    sepal.length variety  petal.length\n",
            "0            5.1  Setosa           1.4\n",
            "1            4.9  Setosa           1.4\n",
            "2            4.7  Setosa           1.3\n",
            "4            5.0  Setosa           1.4\n",
            "6            4.6  Setosa           1.4\n",
            "8            4.4  Setosa           1.4\n",
            "12           4.8  Setosa           1.4\n",
            "13           4.3  Setosa           1.1\n",
            "14           5.8  Setosa           1.2\n",
            "16           5.4  Setosa           1.3\n",
            "17           5.1  Setosa           1.4\n",
            "22           4.6  Setosa           1.0\n",
            "28           5.2  Setosa           1.4\n",
            "33           5.5  Setosa           1.4\n",
            "35           5.0  Setosa           1.2\n",
            "36           5.5  Setosa           1.3\n",
            "37           4.9  Setosa           1.4\n",
            "38           4.4  Setosa           1.3\n",
            "40           5.0  Setosa           1.3\n",
            "41           4.5  Setosa           1.3\n",
            "42           4.4  Setosa           1.3\n",
            "45           4.8  Setosa           1.4\n",
            "47           4.6  Setosa           1.4\n",
            "49           5.0  Setosa           1.4\n"
          ]
        }
      ]
    },
    {
      "cell_type": "code",
      "source": [
        "#silce using rhe iloc\n",
        "data = pd.read_csv(\"/content/drive/MyDrive/iris.csv\")\n",
        "newdata = data.iloc[6:12,:]\n",
        "print(newdata)\n",
        "newdata = data.iloc[-6:-1,0:5]\n",
        "#newdata = data.iloc[ROW : star_index:end_index(not included),COLOM : start_index:end_index(included)]\n",
        "print(newdata)"
      ],
      "metadata": {
        "colab": {
          "base_uri": "https://localhost:8080/"
        },
        "id": "1vpPmNe1Gmwi",
        "outputId": "94fbdae8-f0af-4672-b12d-72871fa0fa8a"
      },
      "execution_count": null,
      "outputs": [
        {
          "output_type": "stream",
          "name": "stdout",
          "text": [
            "    sepal.length  sepal.width  petal.length  petal.width variety\n",
            "6            4.6          3.4           1.4          0.3  Setosa\n",
            "7            5.0          3.4           1.5          0.2  Setosa\n",
            "8            4.4          2.9           1.4          0.2  Setosa\n",
            "9            4.9          3.1           1.5          0.1  Setosa\n",
            "10           5.4          3.7           1.5          0.2  Setosa\n",
            "11           4.8          3.4           1.6          0.2  Setosa\n",
            "     sepal.length  sepal.width  petal.length  petal.width    variety\n",
            "144           6.7          3.3           5.7          2.5  Virginica\n",
            "145           6.7          3.0           5.2          2.3  Virginica\n",
            "146           6.3          2.5           5.0          1.9  Virginica\n",
            "147           6.5          3.0           5.2          2.0  Virginica\n",
            "148           6.2          3.4           5.4          2.3  Virginica\n"
          ]
        }
      ]
    },
    {
      "cell_type": "code",
      "source": [
        "#ploting the data using pandas\n",
        "import matplotlib.pyplot as plt\n",
        "data.plot(x = 'petal.length', y = 'petal.width',kind ='scatter')\n",
        "plt.show()\n",
        "data.plot(x = 'petal.length', y = 'petal.width',kind ='line')\n",
        "plt.show()\n",
        "\n",
        "data.plot(x = 'petal.length', y = 'petal.width',kind ='bar')\n",
        "plt.show()\n"
      ],
      "metadata": {
        "id": "zVjZB-ghtkEJ",
        "colab": {
          "base_uri": "https://localhost:8080/",
          "height": 809
        },
        "outputId": "ebb22846-7c2b-4ef1-f9ba-da0e482071b7"
      },
      "execution_count": null,
      "outputs": [
        {
          "output_type": "display_data",
          "data": {
            "text/plain": [
              "<Figure size 432x288 with 1 Axes>"
            ],
            "image/png": "[encoded data removed]"
          },
          "metadata": {
            "needs_background": "light"
          }
        },
        {
          "output_type": "display_data",
          "data": {
            "text/plain": [
              "<Figure size 432x288 with 1 Axes>"
            ],
            "image/png": "[encoded data removed]"
          },
          "metadata": {
            "needs_background": "light"
          }
        },
        {
          "output_type": "display_data",
          "data": {
            "text/plain": [
              "<Figure size 432x288 with 1 Axes>"
            ],
            "image/png": "[encoded data removed]"
          },
          "metadata": {
            "needs_background": "light"
          }
        }
      ]
    },
    {
      "cell_type": "code",
      "source": [
        "import pandas as pd\n",
        "#import matplotlib.pyplot as plt\n",
        "\n",
        "dataframe=pd.read_csv('/content/drive/MyDrive/births.csv')\n",
        "print(dataframe)\n",
        "print(dataframe.shape)\n",
        "gp = dataframe.groupby(['births'])\n",
        "print(gp.head())\n",
        "print(gp)"
      ],
      "metadata": {
        "colab": {
          "base_uri": "https://localhost:8080/"
        },
        "id": "vuKZaozo6Pu7",
        "outputId": "618f9e2b-355d-443a-f205-61f75b80cb78"
      },
      "execution_count": null,
      "outputs": [
        {
          "output_type": "stream",
          "name": "stdout",
          "text": [
            "       year  month  day gender  births\n",
            "0      1969      1  1.0      F    4046\n",
            "1      1969      1  1.0      M    4440\n",
            "2      1969      1  2.0      F    4454\n",
            "3      1969      1  2.0      M    4548\n",
            "4      1969      1  3.0      F    4548\n",
            "...     ...    ...  ...    ...     ...\n",
            "15542  2008     10  NaN      M  183219\n",
            "15543  2008     11  NaN      F  158939\n",
            "15544  2008     11  NaN      M  165468\n",
            "15545  2008     12  NaN      F  173215\n",
            "15546  2008     12  NaN      M  181235\n",
            "\n",
            "[15547 rows x 5 columns]\n",
            "(15547, 5)\n",
            "       year  month  day gender  births\n",
            "0      1969      1  1.0      F    4046\n",
            "1      1969      1  1.0      M    4440\n",
            "2      1969      1  2.0      F    4454\n",
            "3      1969      1  2.0      M    4548\n",
            "4      1969      1  3.0      F    4548\n",
            "...     ...    ...  ...    ...     ...\n",
            "15542  2008     10  NaN      M  183219\n",
            "15543  2008     11  NaN      F  158939\n",
            "15544  2008     11  NaN      M  165468\n",
            "15545  2008     12  NaN      F  173215\n",
            "15546  2008     12  NaN      M  181235\n",
            "\n",
            "[10513 rows x 5 columns]\n",
            "<pandas.core.groupby.generic.DataFrameGroupBy object at 0x7fc1c107ba90>\n"
          ]
        }
      ]
    },
    {
      "cell_type": "code",
      "source": [
        "# groupby function on iris data set\n",
        "import matplotlib.pyplot as plt\n",
        "\n",
        "iris_data = pd.read_csv('/content/drive/MyDrive/iris.csv')\n",
        "print(iris_data)\n",
        "iris_data.plot(x = 'petal.length', y ='variety',kind = 'scatter')\n",
        "plt.show()\n",
        "\n",
        "idg = iris_data.groupby(['variety','petal.length'])\n",
        "idg.first()\n",
        "\n",
        "idg = idg.GroupBy.get_group('Setosa')\n",
        "idg.first()"
      ],
      "metadata": {
        "colab": {
          "base_uri": "https://localhost:8080/"
        },
        "id": "pyHL_uz5_Cky",
        "outputId": "cea7410e-7f1d-4e62-8551-48cb3aec9059"
      },
      "execution_count": null,
      "outputs": [
        {
          "output_type": "stream",
          "name": "stdout",
          "text": [
            "     sepal.length  sepal.width  petal.length  petal.width    variety\n",
            "0             5.1          3.5           1.4          0.2     Setosa\n",
            "1             4.9          3.0           1.4          0.2     Setosa\n",
            "2             4.7          3.2           1.3          0.2     Setosa\n",
            "3             4.6          3.1           1.5          0.2     Setosa\n",
            "4             5.0          3.6           1.4          0.2     Setosa\n",
            "..            ...          ...           ...          ...        ...\n",
            "145           6.7          3.0           5.2          2.3  Virginica\n",
            "146           6.3          2.5           5.0          1.9  Virginica\n",
            "147           6.5          3.0           5.2          2.0  Virginica\n",
            "148           6.2          3.4           5.4          2.3  Virginica\n",
            "149           5.9          3.0           5.1          1.8  Virginica\n",
            "\n",
            "[150 rows x 5 columns]\n"
          ]
        },
        {
          "output_type": "display_data",
          "data": {
            "text/plain": [
              "<Figure size 432x288 with 1 Axes>"
            ],
            "image/png": "[encoded data removed]"
          },
          "metadata": {
            "needs_background": "light"
          }
        },
        {
          "output_type": "error",
          "ename": "AttributeError",
          "evalue": "ignored",
          "traceback": [
            "\u001b[0;31m---------------------------------------------------------------------------\u001b[0m",
            "\u001b[0;31mAttributeError\u001b[0m                            Traceback (most recent call last)",
            "\u001b[0;32m<ipython-input-17-777d7e5863d3>\u001b[0m in \u001b[0;36m<module>\u001b[0;34m()\u001b[0m\n\u001b[1;32m     10\u001b[0m \u001b[0midg\u001b[0m\u001b[0;34m.\u001b[0m\u001b[0mfirst\u001b[0m\u001b[0;34m(\u001b[0m\u001b[0;34m)\u001b[0m\u001b[0;34m\u001b[0m\u001b[0;34m\u001b[0m\u001b[0m\n\u001b[1;32m     11\u001b[0m \u001b[0;34m\u001b[0m\u001b[0m\n\u001b[0;32m---> 12\u001b[0;31m \u001b[0midg\u001b[0m \u001b[0;34m=\u001b[0m \u001b[0midg\u001b[0m\u001b[0;34m.\u001b[0m\u001b[0mGroupBy\u001b[0m\u001b[0;34m.\u001b[0m\u001b[0mget_group\u001b[0m\u001b[0;34m(\u001b[0m\u001b[0;34m'Setosa'\u001b[0m\u001b[0;34m)\u001b[0m\u001b[0;34m\u001b[0m\u001b[0;34m\u001b[0m\u001b[0m\n\u001b[0m\u001b[1;32m     13\u001b[0m \u001b[0midg\u001b[0m\u001b[0;34m.\u001b[0m\u001b[0mfirst\u001b[0m\u001b[0;34m(\u001b[0m\u001b[0;34m)\u001b[0m\u001b[0;34m\u001b[0m\u001b[0;34m\u001b[0m\u001b[0m\n",
            "\u001b[0;32m/usr/local/lib/python3.7/dist-packages/pandas/core/groupby/groupby.py\u001b[0m in \u001b[0;36m__getattr__\u001b[0;34m(self, attr)\u001b[0m\n\u001b[1;32m    910\u001b[0m \u001b[0;34m\u001b[0m\u001b[0m\n\u001b[1;32m    911\u001b[0m         raise AttributeError(\n\u001b[0;32m--> 912\u001b[0;31m             \u001b[0;34mf\"'{type(self).__name__}' object has no attribute '{attr}'\"\u001b[0m\u001b[0;34m\u001b[0m\u001b[0;34m\u001b[0m\u001b[0m\n\u001b[0m\u001b[1;32m    913\u001b[0m         )\n\u001b[1;32m    914\u001b[0m \u001b[0;34m\u001b[0m\u001b[0m\n",
            "\u001b[0;31mAttributeError\u001b[0m: 'DataFrameGroupBy' object has no attribute 'GroupBy'"
          ]
        }
      ]
    },
    {
      "cell_type": "code",
      "source": [
        ""
      ],
      "metadata": {
        "id": "r4f2CtL1zl3v"
      },
      "execution_count": null,
      "outputs": []
    }
  ],
  "metadata": {
    "colab": {
      "name": "pandas_code.ipynb",
      "provenance": [],
      "collapsed_sections": [],
      "mount_file_id": "1ya3MhTOhZ3zJ046xIkH1Wy0c1mVL6O3W",
      "authorship_tag": "ABX9TyPcesOqGD8XKeZmZ9nFae1f",
      "include_colab_link": true
    },
    "kernelspec": {
      "display_name": "Python 3",
      "name": "python3"
    },
    "language_info": {
      "name": "python"
    }
  },
  "nbformat": 4,
  "nbformat_minor": 0
}