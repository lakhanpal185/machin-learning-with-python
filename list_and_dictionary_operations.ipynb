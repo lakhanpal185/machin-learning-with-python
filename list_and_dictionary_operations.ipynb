{
  "nbformat": 4,
  "nbformat_minor": 0,
  "metadata": {
    "colab": {
      "name": "list and dictionary operations.ipynb",
      "provenance": [],
      "authorship_tag": "ABX9TyPk1dX7eoWg+kauwVNk0blL",
      "include_colab_link": true
    },
    "kernelspec": {
      "name": "python3",
      "display_name": "Python 3"
    },
    "language_info": {
      "name": "python"
    }
  },
  "cells": [
    {
      "cell_type": "markdown",
      "metadata": {
        "id": "view-in-github",
        "colab_type": "text"
      },
      "source": [
        "<a href=\"https://colab.research.google.com/github/lakhanpal185/machin-learning-with-python/blob/main/list_and_dictionary_operations.ipynb\" target=\"_parent\"><img src=\"https://colab.research.google.com/assets/colab-badge.svg\" alt=\"Open In Colab\"/></a>"
      ]
    },
    {
      "cell_type": "code",
      "execution_count": null,
      "metadata": {
        "id": "3vNe66U0DoH5",
        "colab": {
          "base_uri": "https://localhost:8080/",
          "height": 317
        },
        "outputId": "72e68375-5680-408c-fd0e-acd7592501f7"
      },
      "outputs": [
        {
          "name": "stdout",
          "output_type": "stream",
          "text": [
            "enter the elemnet in list : 1\n",
            "entre the elements : \n",
            "\n",
            "\n"
          ]
        },
        {
          "output_type": "error",
          "ename": "ValueError",
          "evalue": "ignored",
          "traceback": [
            "\u001b[0;31m---------------------------------------------------------------------------\u001b[0m",
            "\u001b[0;31mValueError\u001b[0m                                Traceback (most recent call last)",
            "\u001b[0;32m<ipython-input-14-b3d788a9677c>\u001b[0m in \u001b[0;36m<module>\u001b[0;34m()\u001b[0m\n\u001b[1;32m      4\u001b[0m \u001b[0mprint\u001b[0m\u001b[0;34m(\u001b[0m\u001b[0;34m\"entre the elements : \\n\"\u001b[0m\u001b[0;34m)\u001b[0m\u001b[0;34m\u001b[0m\u001b[0;34m\u001b[0m\u001b[0m\n\u001b[1;32m      5\u001b[0m \u001b[0;32mfor\u001b[0m \u001b[0mi\u001b[0m \u001b[0;32min\u001b[0m \u001b[0mrange\u001b[0m\u001b[0;34m(\u001b[0m\u001b[0mn\u001b[0m\u001b[0;34m)\u001b[0m\u001b[0;34m:\u001b[0m\u001b[0;34m\u001b[0m\u001b[0;34m\u001b[0m\u001b[0m\n\u001b[0;32m----> 6\u001b[0;31m     \u001b[0mli\u001b[0m\u001b[0;34m.\u001b[0m\u001b[0mappend\u001b[0m\u001b[0;34m(\u001b[0m\u001b[0mint\u001b[0m\u001b[0;34m(\u001b[0m\u001b[0minput\u001b[0m\u001b[0;34m(\u001b[0m\u001b[0;34m)\u001b[0m\u001b[0;34m)\u001b[0m\u001b[0;34m)\u001b[0m\u001b[0;34m\u001b[0m\u001b[0;34m\u001b[0m\u001b[0m\n\u001b[0m\u001b[1;32m      7\u001b[0m \u001b[0;34m\u001b[0m\u001b[0m\n\u001b[1;32m      8\u001b[0m \u001b[0mkey\u001b[0m \u001b[0;34m=\u001b[0m \u001b[0mint\u001b[0m\u001b[0;34m(\u001b[0m\u001b[0minput\u001b[0m\u001b[0;34m(\u001b[0m\u001b[0;34m\"entre the element to be search : \"\u001b[0m\u001b[0;34m)\u001b[0m\u001b[0;34m)\u001b[0m\u001b[0;34m\u001b[0m\u001b[0;34m\u001b[0m\u001b[0m\n",
            "\u001b[0;31mValueError\u001b[0m: invalid literal for int() with base 10: ''"
          ]
        }
      ],
      "source": [
        " #search an element from list\n",
        "li = []\n",
        "n = int(input(\"enter the elemnet in list : \"))\n",
        "print(\"entre the elements : \\n\")\n",
        "for i in range(n):\n",
        "    li.append(int(input()))\n",
        "\n",
        "key = int(input(\"entre the element to be search : \"))\n",
        "\n",
        "i = 0\n",
        "while(i < len(li)):\n",
        "    if li[i] == key :\n",
        "        print(f'the key is find : at {i+1} index')\n",
        "        break\n",
        "    i+=1\n",
        "else :\n",
        "    print(\"element not find\")\n"
      ]
    },
    {
      "cell_type": "code",
      "source": [
        "#remove an element from the list \n",
        "list1 = []\n",
        "n = int(input(f\"enter numbers of elements : \"))\n",
        "\n",
        "for i in range(0,n):\n",
        "    list1.append(int(input(f'element {i+1} : ')))\n",
        "\n",
        "key = int (input(\"enter the element to be deleted \"))\n",
        "for item in list1:\n",
        "    if item == key:\n",
        "        print(f\"the element is found at index : {list1.index(item) +1} \")\n",
        "        break;\n",
        "if item == list1[(len(list1)-1)] and key != item:\n",
        "    print(\"the element is missing! \")\n"
      ],
      "metadata": {
        "colab": {
          "base_uri": "https://localhost:8080/"
        },
        "id": "v6ai44eXZFX_",
        "outputId": "3eaae04f-63fc-4a2f-e7c5-355b2967e00f"
      },
      "execution_count": null,
      "outputs": [
        {
          "output_type": "stream",
          "name": "stdout",
          "text": [
            "enter numbers of elements : 1\n",
            "element 1 : 1\n",
            "enter the element to be deleted 1\n",
            "the element is found at index : 1 \n"
          ]
        }
      ]
    },
    {
      "cell_type": "code",
      "source": [
        "#program to update the element in list \n",
        "list2 = []\n",
        "n = int (input(\"Enter the list elements : \"))\n",
        "for i in range(0,n):\n",
        "    list2.append(int(input(f\"element {i+1} : \")))\n",
        "\n",
        "key = int (input(\"Enter the key to be updated : \"))\n",
        "new_key = int (input(\"Enter the key to be added : \"))\n",
        "\n",
        "for indx in range(0,len(list2)):\n",
        "    if list2[indx] == key:\n",
        "        list2[indx] = new_key\n",
        "print(list2)"
      ],
      "metadata": {
        "colab": {
          "base_uri": "https://localhost:8080/"
        },
        "id": "3HwhV3KjdEQj",
        "outputId": "23599d99-23ea-4e20-b3f3-2df1be1215d7"
      },
      "execution_count": null,
      "outputs": [
        {
          "output_type": "stream",
          "name": "stdout",
          "text": [
            "Enter the list elements : 2\n",
            "element 1 : 1\n",
            "element 2 : 2\n",
            "Enter the key to be updated : 1\n",
            "Enter the key to be added : 5\n",
            "[5, 2]\n"
          ]
        }
      ]
    },
    {
      "cell_type": "code",
      "source": [
        "#dictionar\n",
        "dic = {\n",
        "    'key':'value',\n",
        "    'game':\"played\",\n",
        "    'name':'lakhan',\n",
        "    'rollNumber': 64\n",
        "    }\n",
        "\n",
        "print(dic['name'])\n",
        "print(dic['game'])\n",
        "print(dic['rollNumber'],\"\\n\")\n",
        "\n",
        "for key in dic:\n",
        "    print(key)\n",
        "\n",
        "print(\"\\n\\n\")\n",
        "for key in dic.keys():\n",
        "    print(key)\n",
        "\n",
        "print('\\n\\n')\n",
        "for value in dic.values():\n",
        "    print(value)\n",
        "\n",
        "print(\"\\n\")\n",
        "for x,y in dic.items():\n",
        "    print(f\"key : {x}, values : {y}\")\n",
        "\n",
        "dicitems = dic.items()\n",
        "dickeys = dic.keys()\n",
        "dicvalues= dic.values()\n",
        "\n",
        "print(f'\\nitems :{dicitems}\\n keys :{dickeys} \\n values : {dicvalues}')\n",
        "print(f'type of dicitems : {type(dicitems)}')\n",
        "print(f'type of dicvalues : {type(dicvalues)}')\n",
        "print(f'type of dickeys : {type(dickeys)}')\n",
        "\n"
      ],
      "metadata": {
        "colab": {
          "base_uri": "https://localhost:8080/"
        },
        "id": "UnFoc79qf_UD",
        "outputId": "c3218c32-1658-413c-fce9-1c6d8929121a"
      },
      "execution_count": null,
      "outputs": [
        {
          "output_type": "stream",
          "name": "stdout",
          "text": [
            "lakhan\n",
            "played\n",
            "64 \n",
            "\n",
            "key\n",
            "game\n",
            "name\n",
            "rollNumber\n",
            "\n",
            "\n",
            "\n",
            "key\n",
            "game\n",
            "name\n",
            "rollNumber\n",
            "\n",
            "\n",
            "\n",
            "value\n",
            "played\n",
            "lakhan\n",
            "64\n",
            "\n",
            "\n",
            "key : key, values : value\n",
            "key : game, values : played\n",
            "key : name, values : lakhan\n",
            "key : rollNumber, values : 64\n",
            "\n",
            "items :dict_items([('key', 'value'), ('game', 'played'), ('name', 'lakhan'), ('rollNumber', 64)])\n",
            " keys :dict_keys(['key', 'game', 'name', 'rollNumber']) \n",
            " values : dict_values(['value', 'played', 'lakhan', 64])\n",
            "type of dicitems : <class 'dict_items'>\n",
            "type of dicvalues : <class 'dict_values'>\n",
            "type of dickeys : <class 'dict_keys'>\n"
          ]
        }
      ]
    },
    {
      "cell_type": "code",
      "source": [
        "dictionary1 = {\n",
        "    'hindi': 'hindi',\n",
        "    'go': 'jao',\n",
        "    'home':'ghar',\n",
        "    \"human\":'inasan'\n",
        "}\n",
        "print(dictionary1)\n",
        "dictionary1.pop('home')\n",
        "dictionary2 = dictionary1.copy();\n",
        "print(dictionary2)\n",
        "dictionary1.popitem()\n",
        "print(dictionary1)\n",
        "\n",
        "dictionary1.update({'go':2011})\n",
        "print(dictionary1)\n",
        "\n",
        "del dictionary2['human']\n",
        "dictionary2.clear() \n",
        "#del dictionary2\n",
        "print(dictionary2)\n",
        "del dictionary2\n",
        "print(disctionary2)"
      ],
      "metadata": {
        "colab": {
          "base_uri": "https://localhost:8080/",
          "height": 287
        },
        "id": "inmyVPR2Cu-Z",
        "outputId": "942dd7c0-f951-45d3-d5d2-a886de9989a6"
      },
      "execution_count": null,
      "outputs": [
        {
          "output_type": "stream",
          "name": "stdout",
          "text": [
            "{'hindi': 'hindi', 'go': 'jao', 'home': 'ghar', 'human': 'inasan'}\n",
            "{'hindi': 'hindi', 'go': 'jao', 'human': 'inasan'}\n",
            "{'hindi': 'hindi', 'go': 'jao'}\n",
            "{'hindi': 'hindi', 'go': 2011}\n",
            "{}\n"
          ]
        },
        {
          "output_type": "error",
          "ename": "NameError",
          "evalue": "ignored",
          "traceback": [
            "\u001b[0;31m---------------------------------------------------------------------------\u001b[0m",
            "\u001b[0;31mNameError\u001b[0m                                 Traceback (most recent call last)",
            "\u001b[0;32m<ipython-input-49-acaf2747608f>\u001b[0m in \u001b[0;36m<module>\u001b[0;34m()\u001b[0m\n\u001b[1;32m     20\u001b[0m \u001b[0mprint\u001b[0m\u001b[0;34m(\u001b[0m\u001b[0mdictionary2\u001b[0m\u001b[0;34m)\u001b[0m\u001b[0;34m\u001b[0m\u001b[0;34m\u001b[0m\u001b[0m\n\u001b[1;32m     21\u001b[0m \u001b[0;32mdel\u001b[0m \u001b[0mdictionary2\u001b[0m\u001b[0;34m\u001b[0m\u001b[0;34m\u001b[0m\u001b[0m\n\u001b[0;32m---> 22\u001b[0;31m \u001b[0mprint\u001b[0m\u001b[0;34m(\u001b[0m\u001b[0mdisctionary2\u001b[0m\u001b[0;34m)\u001b[0m\u001b[0;34m\u001b[0m\u001b[0;34m\u001b[0m\u001b[0m\n\u001b[0m",
            "\u001b[0;31mNameError\u001b[0m: name 'disctionary2' is not defined"
          ]
        }
      ]
    },
    {
      "cell_type": "code",
      "source": [
        "#emoji converter\n",
        "message = input('>>')\n",
        "words = message.split(' ')\n",
        "print(words,'\\n')\n",
        "emoji = {\n",
        "    ':)':'😊',\n",
        "    ':(': '😥'\n",
        "}\n",
        "\n",
        "for word in words:\n",
        "    op += emoji.get(word,word)\n",
        "print(op)\n"
      ],
      "metadata": {
        "id": "nyMJYtQNHuh5"
      },
      "execution_count": null,
      "outputs": []
    }
  ]
}