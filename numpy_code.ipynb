{
  "nbformat": 4,
  "nbformat_minor": 0,
  "metadata": {
    "colab": {
      "name": "numpy_code.ipynb",
      "provenance": [],
      "authorship_tag": "ABX9TyOqceDEyaxYTAyRwiMvzcxp",
      "include_colab_link": true
    },
    "kernelspec": {
      "name": "python3",
      "display_name": "Python 3"
    },
    "language_info": {
      "name": "python"
    }
  },
  "cells": [
    {
      "cell_type": "markdown",
      "metadata": {
        "id": "view-in-github",
        "colab_type": "text"
      },
      "source": [
        "<a href=\"https://colab.research.google.com/github/lakhanpal185/machin-learning-with-python/blob/main/numpy_code.ipynb\" target=\"_parent\"><img src=\"https://colab.research.google.com/assets/colab-badge.svg\" alt=\"Open In Colab\"/></a>"
      ]
    },
    {
      "cell_type": "code",
      "execution_count": null,
      "metadata": {
        "colab": {
          "base_uri": "https://localhost:8080/"
        },
        "id": "8FSFssNGkv6d",
        "outputId": "d6d9fa6b-fde4-4356-a13e-e3e06029aa36"
      },
      "outputs": [
        {
          "output_type": "stream",
          "name": "stdout",
          "text": [
            "[1 2 3 4 5]\n",
            "[ 1  2  3  4  5  6  7  8  9 10]\n",
            "addtion + operation :  [ 3  4  5  6  7  8  9 10 11 12]\n",
            "subtaration - operation :  [-1  0  1  2  3  4  5  6  7  8]\n",
            "multiplcation * operation :  [ 2  4  6  8 10 12 14 16 18 20]\n",
            "divide / operation :  [0.5 1.  1.5 2.  2.5 3.  3.5 4.  4.5 5. ]\n",
            "modulo % operation :  [1 0 1 0 1 0 1 0 1 0]\n",
            "// operation :  [0 1 1 2 2 3 3 4 4 5]\n",
            "addtion + operation :  [ 3  4  5  6  7  8  9 10 11 12]\n",
            "[0 0 0 0 0 0]\n",
            "[1. 1. 1. 1. 1. 1. 1.]\n"
          ]
        }
      ],
      "source": [
        "import numpy as np\n",
        "arr = np.array([1,2,3,4,5])\n",
        "print(arr)\n",
        "\n",
        "x = np.arange(1,11)\n",
        "print(x)\n",
        "\n",
        "print(\"addtion + operation : \",x+2)\n",
        "print(\"subtaration - operation : \",x-2)\n",
        "print(\"multiplcation * operation : \",x*2)\n",
        "print(\"divide / operation : \",x/2)\n",
        "print(\"modulo % operation : \",x%2)\n",
        "print(\"// operation : \",x//2)\n",
        "print(\"addtion + operation : \",x+2)\n",
        "\n",
        "arr = np.zeros(6,dtype=\"int\")\n",
        "print(arr)\n",
        "\n",
        "arr = np.ones(7)\n",
        "print(arr)\n"
      ]
    },
    {
      "cell_type": "code",
      "source": [
        "arr = np.ones((10,10),dtype='int')\n",
        "print(arr)\n",
        "x = np.full((5,5),12,dtype ='int')\n",
        "print(x)\n",
        "x = np.eye(5,8,3,dtype='int')\n",
        "print(x)\n",
        "\n",
        "arr = np.random.random((5,5))\n",
        "print(arr)\n",
        "\n",
        "np.random.seed(2)\n",
        "arr = np.random.randint(5,10,(5,5))\n",
        "print(arr)\n"
      ],
      "metadata": {
        "colab": {
          "base_uri": "https://localhost:8080/"
        },
        "id": "HJwFQqmAo0jV",
        "outputId": "3fd6b572-baf2-45f8-ae59-0f51244d682d"
      },
      "execution_count": null,
      "outputs": [
        {
          "output_type": "stream",
          "name": "stdout",
          "text": [
            "[[1 1 1 1 1 1 1 1 1 1]\n",
            " [1 1 1 1 1 1 1 1 1 1]\n",
            " [1 1 1 1 1 1 1 1 1 1]\n",
            " [1 1 1 1 1 1 1 1 1 1]\n",
            " [1 1 1 1 1 1 1 1 1 1]\n",
            " [1 1 1 1 1 1 1 1 1 1]\n",
            " [1 1 1 1 1 1 1 1 1 1]\n",
            " [1 1 1 1 1 1 1 1 1 1]\n",
            " [1 1 1 1 1 1 1 1 1 1]\n",
            " [1 1 1 1 1 1 1 1 1 1]]\n",
            "[[12 12 12 12 12]\n",
            " [12 12 12 12 12]\n",
            " [12 12 12 12 12]\n",
            " [12 12 12 12 12]\n",
            " [12 12 12 12 12]]\n",
            "[[0 0 0 1 0 0 0 0]\n",
            " [0 0 0 0 1 0 0 0]\n",
            " [0 0 0 0 0 1 0 0]\n",
            " [0 0 0 0 0 0 1 0]\n",
            " [0 0 0 0 0 0 0 1]]\n",
            "[[0.29701836 0.28786882 0.11619332 0.18172704 0.49428977]\n",
            " [0.56576513 0.22183517 0.76749117 0.57730807 0.16782331]\n",
            " [0.36747137 0.46867358 0.65426618 0.79308974 0.66306179]\n",
            " [0.61302969 0.990852   0.1194848  0.14856478 0.85228103]\n",
            " [0.50952588 0.21726993 0.99326629 0.31529748 0.25873317]]\n",
            "[[5 5 8 7 8]\n",
            " [5 7 6 8 7]\n",
            " [9 9 9 8 9]\n",
            " [7 8 8 7 6]\n",
            " [7 9 8 5 9]]\n"
          ]
        }
      ]
    },
    {
      "cell_type": "code",
      "source": [
        "arr = np.random.randint(1,10,(5,5))\n",
        "print(arr)\n",
        "print(f\"the max value of array is {np.max(arr)}\")\n",
        "print(f\"the min value of array is {np.min(arr)}\")\n",
        "print(f\"the min value of rows is {np.min(arr,axis = 1)}\")\n",
        "print(f\"the min value of colum is {np.min(arr,axis = 0)}\")\n",
        "\n",
        "print(f\"the max value of row is {np.max(arr,axis = 1)}\")\n",
        "print(f\"the mean value of matrix is {np.mean(arr)}\")\n",
        "print(f\"the mean values of rows is {np.mean(arr,axis = 1)}\")\n",
        "\n"
      ],
      "metadata": {
        "colab": {
          "base_uri": "https://localhost:8080/"
        },
        "id": "rRKrhy92t1_d",
        "outputId": "d09a1138-c492-484f-e462-dbbf2bf3c6a1"
      },
      "execution_count": null,
      "outputs": [
        {
          "output_type": "stream",
          "name": "stdout",
          "text": [
            "[[6 3 6 7 2]\n",
            " [6 1 6 5 9]\n",
            " [4 8 6 5 6]\n",
            " [3 7 1 6 8]\n",
            " [2 7 8 1 2]]\n",
            "the max value of array is 9\n",
            "the min value of array is 1\n",
            "the min value of rows is [2 1 4 1 1]\n",
            "the min value of colum is [2 1 1 1 2]\n",
            "the max value of row is [7 9 8 8 8]\n",
            "the mean value of matrix is 5.0\n",
            "the mean values of rows is [4.8 5.4 5.8 5.  4. ]\n"
          ]
        }
      ]
    },
    {
      "cell_type": "code",
      "source": [
        "#trignomatrix functions\n",
        "arr = np.random.randint(1,9,(5,5))\n",
        "print(arr)\n",
        "print(f\"sin of every element is {np.sin(arr)}\")\n",
        "print(f'cos of every element is {np.cos(arr)}')\n",
        "print(f'tan of every element is {np.tan(arr)}')\n",
        "#print(f'cos of every element is {np.cos(arr)}')"
      ],
      "metadata": {
        "colab": {
          "base_uri": "https://localhost:8080/"
        },
        "id": "L6gEY2H3yTcG",
        "outputId": "c3a562c9-b59b-4481-ca7c-f9e752f5a406"
      },
      "execution_count": null,
      "outputs": [
        {
          "output_type": "stream",
          "name": "stdout",
          "text": [
            "[[3 6 8 6 5]\n",
            " [5 3 1 7 7]\n",
            " [1 6 7 4 2]\n",
            " [6 2 6 2 5]\n",
            " [2 8 1 4 5]]\n",
            "sin of every element is [[ 0.14112001 -0.2794155   0.98935825 -0.2794155  -0.95892427]\n",
            " [-0.95892427  0.14112001  0.84147098  0.6569866   0.6569866 ]\n",
            " [ 0.84147098 -0.2794155   0.6569866  -0.7568025   0.90929743]\n",
            " [-0.2794155   0.90929743 -0.2794155   0.90929743 -0.95892427]\n",
            " [ 0.90929743  0.98935825  0.84147098 -0.7568025  -0.95892427]]\n",
            "cos of every element is [[-0.9899925   0.96017029 -0.14550003  0.96017029  0.28366219]\n",
            " [ 0.28366219 -0.9899925   0.54030231  0.75390225  0.75390225]\n",
            " [ 0.54030231  0.96017029  0.75390225 -0.65364362 -0.41614684]\n",
            " [ 0.96017029 -0.41614684  0.96017029 -0.41614684  0.28366219]\n",
            " [-0.41614684 -0.14550003  0.54030231 -0.65364362  0.28366219]]\n",
            "tan of every element is [[-0.14254654 -0.29100619 -6.79971146 -0.29100619 -3.38051501]\n",
            " [-3.38051501 -0.14254654  1.55740772  0.87144798  0.87144798]\n",
            " [ 1.55740772 -0.29100619  0.87144798  1.15782128 -2.18503986]\n",
            " [-0.29100619 -2.18503986 -0.29100619 -2.18503986 -3.38051501]\n",
            " [-2.18503986 -6.79971146  1.55740772  1.15782128 -3.38051501]]\n"
          ]
        }
      ]
    },
    {
      "cell_type": "code",
      "source": [
        "# lograthemic values \n",
        "arr = np.arange(2,10,1)\n",
        "print(f\"the log value of  {np.log(arr)} array element\\n\")\n",
        "print(f\"the log base 2 value of  {np.log2(arr)} array element\\n\")\n",
        "print(f\"the log base 10 value is {np.log10(arr)}\\n\")\n",
        "print(arr)"
      ],
      "metadata": {
        "colab": {
          "base_uri": "https://localhost:8080/"
        },
        "id": "qNEX755OzcW_",
        "outputId": "5266bc48-219d-4ab8-86b3-9c7f1f440277"
      },
      "execution_count": null,
      "outputs": [
        {
          "output_type": "stream",
          "name": "stdout",
          "text": [
            "the log value of  [0.69314718 1.09861229 1.38629436 1.60943791 1.79175947 1.94591015\n",
            " 2.07944154 2.19722458] array element\n",
            "\n",
            "the log base 2 value of  [1.         1.5849625  2.         2.32192809 2.5849625  2.80735492\n",
            " 3.         3.169925  ] array element\n",
            "\n",
            "the log base 10 value is [0.30103    0.47712125 0.60205999 0.69897    0.77815125 0.84509804\n",
            " 0.90308999 0.95424251]\n",
            "\n",
            "[2 3 4 5 6 7 8 9]\n"
          ]
        }
      ]
    },
    {
      "cell_type": "code",
      "source": [
        "yarr = np.arange(1,20,2)\n",
        "print(yarr)\n",
        "print(yarr.ndim)\n",
        "print(yarr.dtype)\n",
        "print(yarr.itemsize)\n",
        "print(yarr.nbytes)"
      ],
      "metadata": {
        "colab": {
          "base_uri": "https://localhost:8080/"
        },
        "id": "9KSNVviJ1mh_",
        "outputId": "705e2768-4c7e-41ed-aff2-7c40a8df97c2"
      },
      "execution_count": null,
      "outputs": [
        {
          "output_type": "stream",
          "name": "stdout",
          "text": [
            "[ 1  3  5  7  9 11 13 15 17 19]\n",
            "1\n",
            "int64\n",
            "8\n",
            "80\n"
          ]
        }
      ]
    },
    {
      "cell_type": "code",
      "source": [
        "np.random.seed(1)\n",
        "arr = np.random.randint(1,20,(5,5))\n",
        "print(arr)\n",
        "sub_arr = arr[0:3,0:3]\n",
        "#             row:colum,row:colum\n",
        "print(sub_arr)\n",
        "#sub array updation can change the value of orginal array\n",
        "sub_arr = arr[0:3,0:3].copy()\n",
        "sub_arr[0][0] = 30\n",
        "print(sub_arr)\n",
        "print(arr)\n",
        "print(np.__version__)"
      ],
      "metadata": {
        "colab": {
          "base_uri": "https://localhost:8080/"
        },
        "id": "FFZpG7RP2r72",
        "outputId": "3eabd462-bade-40ec-d673-880f7554d620"
      },
      "execution_count": null,
      "outputs": [
        {
          "output_type": "stream",
          "name": "stdout",
          "text": [
            "[[ 6 12 13  9 10]\n",
            " [12  6 16  1 17]\n",
            " [ 2 13  8 14  7]\n",
            " [19  6 19 12 11]\n",
            " [15 19  5 10 18]]\n",
            "[[ 6 12 13]\n",
            " [12  6 16]\n",
            " [ 2 13  8]]\n",
            "[[30 12 13]\n",
            " [12  6 16]\n",
            " [ 2 13  8]]\n",
            "[[ 6 12 13  9 10]\n",
            " [12  6 16  1 17]\n",
            " [ 2 13  8 14  7]\n",
            " [19  6 19 12 11]\n",
            " [15 19  5 10 18]]\n",
            "1.21.6\n"
          ]
        }
      ]
    },
    {
      "cell_type": "code",
      "source": [
        "#concatenation in python \n",
        "temparr = np.random.randint(1,10,(2,2))\n",
        "print(temparr)\n",
        "temparr = np.concatenate([temparr,temparr])\n",
        "print(temparr)\n",
        "temparr = np.concatenate([temparr,temparr],axis = 1)\n",
        "print(temparr)"
      ],
      "metadata": {
        "colab": {
          "base_uri": "https://localhost:8080/"
        },
        "id": "LnvbW8p_6Deb",
        "outputId": "dd41b9bc-0c7d-4bae-c754-e3a9409150d7"
      },
      "execution_count": null,
      "outputs": [
        {
          "output_type": "stream",
          "name": "stdout",
          "text": [
            "[[2 4]\n",
            " [5 9]]\n",
            "[[2 4]\n",
            " [5 9]\n",
            " [2 4]\n",
            " [5 9]]\n",
            "[[2 4 2 4]\n",
            " [5 9 5 9]\n",
            " [2 4 2 4]\n",
            " [5 9 5 9]]\n"
          ]
        }
      ]
    },
    {
      "cell_type": "code",
      "source": [
        "#rearrange the array using .reshape\n",
        "arr = np.arange(16).reshape(4,4)\n",
        "print(arr)"
      ],
      "metadata": {
        "colab": {
          "base_uri": "https://localhost:8080/"
        },
        "id": "x53BA9Xd9QsJ",
        "outputId": "b2aea1c8-edd7-4e3c-f71e-8aebb6debfe3"
      },
      "execution_count": null,
      "outputs": [
        {
          "output_type": "stream",
          "name": "stdout",
          "text": [
            "[[ 0  1  2  3]\n",
            " [ 4  5  6  7]\n",
            " [ 8  9 10 11]\n",
            " [12 13 14 15]]\n"
          ]
        }
      ]
    }
  ]
}